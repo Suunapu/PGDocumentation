{
 "cells": [
  {
   "cell_type": "markdown",
   "metadata": {},
   "source": [
    "# BasX Plenum and Gird Documentation\n",
    "\n",
    "This is the documentation for the Plenum and Grid module of the Estimate Program for BasX Solutions.\n",
    "The Plenum and Grid module is an adapted version of the Seasons 4 pricing estimation spreadsheet.\n",
    "\n",
    "This documentation has cells of code to stand in as examples to see the results of the calculations in a simple code representation. The important parts of these cells is the part following the code. There will be a print out of the results of the calculations. The examples are using a 10x8 bottom load grid module, \n",
    "\n",
    "In general, this module can support 12 Plenum and Grid modules to be priced into one package. With a maximum size of 12x26 foot modules, and allowing up to 2,000,000 sqft of Plenum and Grid to be estimated. \n",
    "\n",
    "## Table of Contents \n",
    "a.\t[Grid](#grid)<br><br>\n",
    "    i.) [Perimeter](#perimeter)<br>\n",
    "    ii.) [Perimeter Closure](#closure) <br>\n",
    "    iii.) [Interior](#interior)<br>\n",
    "    iv.) [SS Grid](#SS)<br>\n",
    "    v.) [Perimeter Powder Coat](#p_powder_coat) <br>\n",
    "    vi.) [Interior Powder Coat](#i_powder_coat)<br>\n",
    "    vii.) [Grid Hanging Brakets](#hanging_brackets)<br>\n",
    "    viii.) [Suspension Brackets](#suspension_brackets)<br><br>\n",
    "b.\t[Grid Electrical] <br>\n",
    "c.\t[Filters] <br>\n",
    "d.\t[Blank Pans] <br>\n",
    "e.\t[Face Screens] <br>\n",
    "f.\t[Sprinklers] <br>\n",
    "g.\t[Plenum] <br>\n",
    "\n",
    "<a name='grid'></a>\n",
    "## a.) Grid\n",
    "<a name='perimeter'></a>\n",
    "### Grid Perimeter \n",
    "The Grid Perimeter is based on Grid Width and Length as well as panel scrap percentage of 25%. After the amount of grid perimeter is calculated, the cost of the material is looked up from a table based on the specifed perimeter type (Bottom or Top Load). <br>Currenlty the pricing for Bottom Load Grid is \\$3.03 per Linear Foot, and Top Load Grid is \\$3.19 per Linear Foot. \n",
    "<br>\n",
    "\n",
    "Grid Perimeter: $((Grid Length * 2) + (Grid Width * 2)) * (1 + Scrap Percentage)$ <br>\n",
    "Grid Perimeter Price: $Perimeter Grid * Grid TypePrice$"
   ]
  },
  {
   "cell_type": "code",
   "execution_count": 1,
   "metadata": {},
   "outputs": [
    {
     "name": "stdout",
     "output_type": "stream",
     "text": [
      "Perimeter Grid Ft: 45.0\n",
      "Perimeter Cost: $136.35\n"
     ]
    }
   ],
   "source": [
    "# Perimeter Grid\n",
    "import math\n",
    "grid_length = 10\n",
    "grid_width = 8\n",
    "grid_depth = 0\n",
    "grid_qty = 1\n",
    "scrap_percentage = .25\n",
    "grid_type = {'Bottom Load': 3.03, 'Top Load': 3.19}\n",
    "\n",
    "grid_perimeter = ((grid_length * 2) + (grid_width * 2)) * (1 + scrap_percentage)\n",
    "print('Perimeter Grid Ft: ' + str(grid_perimeter))\n",
    "perimeter_cost = grid_perimeter * grid_type['Bottom Load']\n",
    "print('Perimeter Cost: $' + str(perimeter_cost))"
   ]
  },
  {
   "cell_type": "markdown",
   "metadata": {},
   "source": [
    "<a name='closure'></a>\n",
    "### Perimeter Closure\n",
    "Perimeter Grid Closure is not calculated, but instead is manually entered and is priced at $20 per Linear Foot"
   ]
  },
  {
   "cell_type": "markdown",
   "metadata": {},
   "source": [
    "<a name='interior'></a>\n",
    "### Grid Interior\n",
    "The Grid Interior Calculation is a bit more complicated. <br>\n",
    "\n",
    "For Grid Lengths, we divide the length by 2 and subtract 1 to represent the number of runs in the grid.\n",
    "We multiply the number of runs in the grid by the width and add the additional runs for every 4 feet.<br>\n",
    "After we get the grid interior, we multiply the scrap percentage of 25%.<br>\n",
    "To get the cost we lookup the price of material in a table. <br>\n",
    "The current pricing of materials is Bottom Load Grid Interior is \\$3.63 per Linear Foot and Top Load Grid Interior is \\$4.72 per Linear Foot\n",
    "\n",
    "Grid Interior: $(\\frac{Length}{2}-1) * Width$ for Width <= 4 <br>\n",
    "$(\\frac{Length}{2}-1) * Width + (Length)$ for Width > 4 <br>\n",
    "$(\\frac{Length}{2}-1) * Width + (2 * Length)$ for Width > 8 <br>\n",
    "$(\\frac{Length}{2}-1) * Width + (3 * Length)$ for Width > 12 <br>\n",
    "...<br>\n",
    "\n",
    "Interior Cost: $GridInterior*(1+ScrapPercentage)*GridType$"
   ]
  },
  {
   "cell_type": "code",
   "execution_count": 2,
   "metadata": {},
   "outputs": [
    {
     "name": "stdout",
     "output_type": "stream",
     "text": [
      "Interior Grid Sqft: 52.5\n",
      "Interior Cost: $190.575\n"
     ]
    }
   ],
   "source": [
    "grid_type = {'Bottom Load': 3.63, 'Top Load': 4.72}\n",
    "\n",
    "grid_interior = (((grid_length / 2) - 1) * grid_width) + ((math.ceil(grid_width/4)-1)*grid_length)\n",
    "grid_interior = grid_interior * (1 + scrap_percentage)\n",
    "print('Interior Grid Sqft: ' + str(grid_interior))\n",
    "interior_cost = grid_interior * grid_type['Bottom Load']\n",
    "print('Interior Cost: $' + str(interior_cost))"
   ]
  },
  {
   "cell_type": "markdown",
   "metadata": {},
   "source": [
    "<a name='SS'></a>\n",
    "### SS Grid\n",
    "SS Grid is an option that adds additional cost to the grid modules if they're Stainless Steel. For instance if it costs \\$500 for the grid's interior and perimeter and \\$2000 for SS Grid then the cost would be \\$2500 for the SS grid in total.<br>\n",
    "SS Grid added Cost: $(Length * Width) * \\$42.5$"
   ]
  },
  {
   "cell_type": "code",
   "execution_count": 3,
   "metadata": {},
   "outputs": [
    {
     "name": "stdout",
     "output_type": "stream",
     "text": [
      "SS Grid added cost: $3400.0\n"
     ]
    }
   ],
   "source": [
    "SS_grid_price = 42.5\n",
    "SS_grid = (grid_length * grid_width) * SS_grid_price\n",
    "print('SS Grid added cost: $' + str(SS_grid))"
   ]
  },
  {
   "cell_type": "markdown",
   "metadata": {},
   "source": [
    "<a name='p_powder_coat'></a>\n",
    "### Perimeter Powder Coat\n",
    "Grid Perimeter Powder Coat is similar to the grid perimeter calculation but without the scrap percentage <br>\n",
    "The price of powder coating 1 sqft is \\$2.67 for the perimeter\n",
    "\n",
    "Grid Perimeter: $((Grid Length * 2) + (Grid Width * 2))$ <br>\n",
    "Powder Coat: $GridPerimeter* \\$2.67$"
   ]
  },
  {
   "cell_type": "code",
   "execution_count": 4,
   "metadata": {},
   "outputs": [
    {
     "name": "stdout",
     "output_type": "stream",
     "text": [
      "Perimeter Powder Coat Ft: 36\n",
      "Perimeter Powder Coat Cost: $96.12\n"
     ]
    }
   ],
   "source": [
    "perimeter_powder_coat = 2.67\n",
    "grid_perimeter = (grid_length * 2) + (grid_width * 2)\n",
    "perimeter_powder_coat_cost = grid_perimeter * perimeter_powder_coat\n",
    "print('Perimeter Powder Coat Ft: ' + str(grid_perimeter))\n",
    "print('Perimeter Powder Coat Cost: $' + str(perimeter_powder_coat_cost))"
   ]
  },
  {
   "cell_type": "markdown",
   "metadata": {},
   "source": [
    "<a name='i_powder_coat'></a>\n",
    "### Interior Powder Coat\n",
    "The Grid Interior Powder Coat is similar to the grid interior but there is no inclusion of extra runs for different widths.<br>\n",
    "The price of powder coating 1 sqft of grid is \\$3.20 for the interior\n",
    "\n",
    "Grid Interior: $((\\frac{Length}{2}-1)*Width)+(Length)$\n",
    "\n",
    "Powder Coat Interior Cost: $GridInterior*\\$3.20 $"
   ]
  },
  {
   "cell_type": "code",
   "execution_count": 5,
   "metadata": {},
   "outputs": [
    {
     "name": "stdout",
     "output_type": "stream",
     "text": [
      "Interior Powder Coat Sqft: 42.0\n",
      "Interior Powder Coat Cost: $134.4\n"
     ]
    }
   ],
   "source": [
    "interior_powder_coat = 3.2\n",
    "grid_interior = (((grid_length / 2) - 1) * grid_width) + grid_length \n",
    "interior_powder_coat_cost = grid_interior * interior_powder_coat\n",
    "print('Interior Powder Coat Sqft: ' + str(grid_interior))\n",
    "print('Interior Powder Coat Cost: $' + str(interior_powder_coat_cost))"
   ]
  },
  {
   "cell_type": "markdown",
   "metadata": {},
   "source": [
    "<a name='hanging_brackets'></a>\n",
    "### Hanging Brackets\n",
    "The Hanging Brackets are calculated, but never used for pricing or other components. <br>\n",
    "The Hanging Grid Brackets are calculated if there is no plenum depth.<br> 4 Brackets are used on the first module and 2 are used for each module after that <br>\n",
    "Grid Hanging Brackets: $2+(2*GridQuantity)$"
   ]
  },
  {
   "cell_type": "code",
   "execution_count": 6,
   "metadata": {},
   "outputs": [
    {
     "name": "stdout",
     "output_type": "stream",
     "text": [
      "Grid Hanging Brackets: 4\n"
     ]
    }
   ],
   "source": [
    "grid_hanging_brackets = 2+(2*grid_qty)\n",
    "print('Grid Hanging Brackets: ' + str(grid_hanging_brackets))"
   ]
  },
  {
   "cell_type": "markdown",
   "metadata": {},
   "source": [
    "<a name='suspension_brackets'></a>\n",
    "### Suspension Brackets\n",
    "Suspension Brackets are calculated  if there is no plenum depth (grid only) <br>\n",
    "4 Suspension Brackets are used, and 6 are used if the grid length is more than 12 <br>\n",
    "The cost of 1 Bracket is \\$15.00 <br>\n",
    "Suspension Brackets: $4 + (2$ if Length $> 12)$"
   ]
  },
  {
   "cell_type": "code",
   "execution_count": 7,
   "metadata": {},
   "outputs": [
    {
     "name": "stdout",
     "output_type": "stream",
     "text": [
      "Suspension Brackets: 4\n",
      "Suspension bracket Cost: $60\n"
     ]
    }
   ],
   "source": [
    "suspension_brackets = (4 if grid_depth == 0 else 0) + (2 if grid_length > 12 else 0)\n",
    "print('Suspension Brackets: ' + str(suspension_brackets))\n",
    "print('Suspension bracket Cost: $' + str(suspension_brackets * 15))"
   ]
  },
  {
   "cell_type": "code",
   "execution_count": null,
   "metadata": {},
   "outputs": [],
   "source": []
  }
 ],
 "metadata": {
  "kernelspec": {
   "display_name": "Python 3",
   "language": "python",
   "name": "python3"
  },
  "language_info": {
   "codemirror_mode": {
    "name": "ipython",
    "version": 3
   },
   "file_extension": ".py",
   "mimetype": "text/x-python",
   "name": "python",
   "nbconvert_exporter": "python",
   "pygments_lexer": "ipython3",
   "version": "3.6.5"
  }
 },
 "nbformat": 4,
 "nbformat_minor": 2
}
