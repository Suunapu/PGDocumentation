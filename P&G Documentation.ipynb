{
 "cells": [
  {
   "cell_type": "markdown",
   "metadata": {},
   "source": [
    "# BasX Plenum and Gird Documentation\n",
    "\n",
    "This is the documentation for the Plenum and Grid module of the Estimate Program for BasX Solutions.\n",
    "The Plenum and Grid module is an adapted version of the Seasons 4 pricing estimation spreadsheet.\n",
    "\n",
    "This documentation has cells of code to stand in as examples to see the results of the calculations in a simple code representation. The important parts of these cells is the part following the code. There will be a print out of the results of the calculations. The examples are using a 10x8 bottom load grid module, \n",
    "\n",
    "In general, this module can support 12 Plenum and Grid modules to be priced into one package. With a maximum size of 12x26 foot modules, and allowing up to 2,000,000 sqft of Plenum and Grid to be estimated. \n",
    "\n",
    "## Table of Contents \n",
    "a.\t[Grid](#grid)<br><br>\n",
    "    i.) [Perimeter](#perimeter)<br>\n",
    "    ii.) [Perimeter Closure](#closure) <br>\n",
    "    iii.) [Interior](#interior)<br>\n",
    "    iv.) [SS Grid](#SS)<br>\n",
    "    v.) [Perimeter Powder Coat](#p_powder_coat) <br>\n",
    "    vi.) [Interior Powder Coat](#i_powder_coat)<br>\n",
    "    vii.) [Grid Hanging Brakets](#hanging_brackets)<br>\n",
    "    viii.) [Suspension Brackets](#suspension_brackets)<br><br>\n",
    "b.\t[Grid Electrical](#grid_electrical)<br><br>\n",
    "    i.) [Number of Lightbars](#lightbars)<br>\n",
    "    ii.) [LED Module](#led_module)<br>\n",
    "    iii.) [LED Hardware](#led_hardware)<br>\n",
    "    iv.) [Wiring of Ionization](#ionization)<br>\n",
    "    v.) [Electrical Labor](#elabor)<br>\n",
    "    vi.) [Additional Electrical Labor](#addelabor)<br><br>\n",
    "c.\t[Filters] <br>\n",
    "d.\t[Blank Pans] <br>\n",
    "e.\t[Face Screens] <br>\n",
    "f.\t[Sprinklers] <br>\n",
    "g.\t[Plenum] <br>\n",
    "\n",
    "<a name='grid'></a>\n",
    "## a.) Grid\n",
    "<a name='perimeter'></a>\n",
    "### Grid Perimeter \n",
    "The Grid Perimeter is based on Grid Width and Length as well as panel scrap percentage of 25%. After the amount of grid perimeter is calculated, the cost of the material is looked up from a table based on the specifed perimeter type (Bottom or Top Load). <br>Currenlty the pricing for Bottom Load Grid is \\$3.03 per Linear Foot, and Top Load Grid is \\$3.19 per Linear Foot. \n",
    "<br>\n",
    "\n",
    "Grid Perimeter: $((Grid Length * 2) + (Grid Width * 2)) * (1 + Scrap Percentage)$ <br>\n",
    "Grid Perimeter Price: $Perimeter Grid * Grid TypePrice$"
   ]
  },
  {
   "cell_type": "code",
   "execution_count": 1,
   "metadata": {},
   "outputs": [
    {
     "name": "stdout",
     "output_type": "stream",
     "text": [
      "Perimeter Grid Ft: 45.0\n",
      "Perimeter Cost: $136.35\n"
     ]
    }
   ],
   "source": [
    "# Perimeter Grid\n",
    "import math\n",
    "grid_length = 10\n",
    "grid_width = 8\n",
    "grid_depth = 0\n",
    "grid_qty = 1\n",
    "scrap_percentage = .25\n",
    "grid_type = {'Bottom Load': 3.03, 'Top Load': 3.19}\n",
    "\n",
    "grid_perimeter = ((grid_length * 2) + (grid_width * 2)) * (1 + scrap_percentage)\n",
    "print('Perimeter Grid Ft: ' + str(grid_perimeter))\n",
    "perimeter_cost = grid_perimeter * grid_type['Bottom Load']\n",
    "print('Perimeter Cost: $' + str(perimeter_cost))"
   ]
  },
  {
   "cell_type": "markdown",
   "metadata": {},
   "source": [
    "<a name='closure'></a>\n",
    "### Perimeter Closure\n",
    "Perimeter Grid Closure is not calculated, but instead is manually entered and is priced at $20 per Linear Foot"
   ]
  },
  {
   "cell_type": "markdown",
   "metadata": {},
   "source": [
    "<a name='interior'></a>\n",
    "### Grid Interior\n",
    "The Grid Interior Calculation is a bit more complicated. <br>\n",
    "\n",
    "For Grid Lengths, we divide the length by 2 and subtract 1 to represent the number of runs in the grid.\n",
    "We multiply the number of runs in the grid by the width and add the additional runs for every 4 feet.<br>\n",
    "After we get the grid interior, we multiply the scrap percentage of 25%.<br>\n",
    "To get the cost we lookup the price of material in a table. <br>\n",
    "The current pricing of materials is Bottom Load Grid Interior is \\$3.63 per Linear Foot and Top Load Grid Interior is \\$4.72 per Linear Foot\n",
    "\n",
    "Grid Interior: $(\\frac{Length}{2}-1) * Width$ for Width <= 4 <br>\n",
    "$(\\frac{Length}{2}-1) * Width + (Length)$ for Width > 4 <br>\n",
    "$(\\frac{Length}{2}-1) * Width + (2 * Length)$ for Width > 8 <br>\n",
    "$(\\frac{Length}{2}-1) * Width + (3 * Length)$ for Width > 12 <br>\n",
    "...<br>\n",
    "\n",
    "Interior Cost: $GridInterior*(1+ScrapPercentage)*GridType$"
   ]
  },
  {
   "cell_type": "code",
   "execution_count": 2,
   "metadata": {},
   "outputs": [
    {
     "name": "stdout",
     "output_type": "stream",
     "text": [
      "Interior Grid Sqft: 52.5\n",
      "Interior Cost: $190.575\n"
     ]
    }
   ],
   "source": [
    "grid_type = {'Bottom Load': 3.63, 'Top Load': 4.72}\n",
    "\n",
    "grid_interior = (((grid_length / 2) - 1) * grid_width) + ((math.ceil(grid_width/4)-1)*grid_length)\n",
    "grid_interior = grid_interior * (1 + scrap_percentage)\n",
    "print('Interior Grid Sqft: ' + str(grid_interior))\n",
    "interior_cost = grid_interior * grid_type['Bottom Load']\n",
    "print('Interior Cost: $' + str(interior_cost))"
   ]
  },
  {
   "cell_type": "markdown",
   "metadata": {},
   "source": [
    "<a name='SS'></a>\n",
    "### SS Grid\n",
    "SS Grid is an option that adds additional cost to the grid modules if they're Stainless Steel. For instance if it costs \\$500 for the grid's interior and perimeter and \\$2000 for SS Grid then the cost would be \\$2500 for the SS grid in total.<br>\n",
    "SS Grid added Cost: $(Length * Width) * \\$42.5$"
   ]
  },
  {
   "cell_type": "code",
   "execution_count": 3,
   "metadata": {},
   "outputs": [
    {
     "name": "stdout",
     "output_type": "stream",
     "text": [
      "SS Grid added cost: $3400.0\n"
     ]
    }
   ],
   "source": [
    "SS_grid_price = 42.5\n",
    "SS_grid = (grid_length * grid_width) * SS_grid_price\n",
    "print('SS Grid added cost: $' + str(SS_grid))"
   ]
  },
  {
   "cell_type": "markdown",
   "metadata": {},
   "source": [
    "<a name='p_powder_coat'></a>\n",
    "### Perimeter Powder Coat\n",
    "Grid Perimeter Powder Coat is similar to the grid perimeter calculation but without the scrap percentage <br>\n",
    "The price of powder coating 1 sqft is \\$2.67 for the perimeter\n",
    "\n",
    "Grid Perimeter: $((Grid Length * 2) + (Grid Width * 2))$ <br>\n",
    "Powder Coat: $GridPerimeter* \\$2.67$"
   ]
  },
  {
   "cell_type": "code",
   "execution_count": 4,
   "metadata": {},
   "outputs": [
    {
     "name": "stdout",
     "output_type": "stream",
     "text": [
      "Perimeter Powder Coat Ft: 36\n",
      "Perimeter Powder Coat Cost: $96.12\n"
     ]
    }
   ],
   "source": [
    "perimeter_powder_coat = 2.67\n",
    "grid_perimeter = (grid_length * 2) + (grid_width * 2)\n",
    "perimeter_powder_coat_cost = grid_perimeter * perimeter_powder_coat\n",
    "print('Perimeter Powder Coat Ft: ' + str(grid_perimeter))\n",
    "print('Perimeter Powder Coat Cost: $' + str(perimeter_powder_coat_cost))"
   ]
  },
  {
   "cell_type": "markdown",
   "metadata": {},
   "source": [
    "<a name='i_powder_coat'></a>\n",
    "### Interior Powder Coat\n",
    "The Grid Interior Powder Coat is similar to the grid interior but there is no inclusion of extra runs for different widths.<br>\n",
    "The price of powder coating 1 sqft of grid is \\$3.20 for the interior\n",
    "\n",
    "Grid Interior: $((\\frac{Length}{2}-1)*Width)+(Length)$\n",
    "\n",
    "Powder Coat Interior Cost: $GridInterior*\\$3.20 $"
   ]
  },
  {
   "cell_type": "code",
   "execution_count": 5,
   "metadata": {},
   "outputs": [
    {
     "name": "stdout",
     "output_type": "stream",
     "text": [
      "Interior Powder Coat Sqft: 42.0\n",
      "Interior Powder Coat Cost: $134.4\n"
     ]
    }
   ],
   "source": [
    "interior_powder_coat = 3.2\n",
    "grid_interior = (((grid_length / 2) - 1) * grid_width) + grid_length \n",
    "interior_powder_coat_cost = grid_interior * interior_powder_coat\n",
    "print('Interior Powder Coat Sqft: ' + str(grid_interior))\n",
    "print('Interior Powder Coat Cost: $' + str(interior_powder_coat_cost))"
   ]
  },
  {
   "cell_type": "markdown",
   "metadata": {},
   "source": [
    "<a name='hanging_brackets'></a>\n",
    "### Hanging Brackets\n",
    "The Hanging Brackets are calculated, but never used for pricing or other components. <br>\n",
    "The Hanging Grid Brackets are calculated if there is no plenum depth.<br> 4 Brackets are used on the first module and 2 are used for each module after that <br>\n",
    "Grid Hanging Brackets: $2+(2*GridQuantity)$"
   ]
  },
  {
   "cell_type": "code",
   "execution_count": 6,
   "metadata": {},
   "outputs": [
    {
     "name": "stdout",
     "output_type": "stream",
     "text": [
      "Grid Hanging Brackets: 4\n"
     ]
    }
   ],
   "source": [
    "grid_hanging_brackets = 2+(2*grid_qty)\n",
    "print('Grid Hanging Brackets: ' + str(grid_hanging_brackets))"
   ]
  },
  {
   "cell_type": "markdown",
   "metadata": {},
   "source": [
    "<a name='suspension_brackets'></a>\n",
    "### Suspension Brackets\n",
    "Suspension Brackets are calculated  if there is no plenum depth (grid only) <br>\n",
    "4 Suspension Brackets are used, and 6 are used if the grid length is more than 12 <br>\n",
    "The cost of 1 Bracket is \\$15.00 <br>\n",
    "Suspension Brackets: $4 + (2$ if Length $> 12)$"
   ]
  },
  {
   "cell_type": "code",
   "execution_count": 7,
   "metadata": {},
   "outputs": [
    {
     "name": "stdout",
     "output_type": "stream",
     "text": [
      "Suspension Brackets: 4\n",
      "Suspension bracket Cost: $60\n"
     ]
    }
   ],
   "source": [
    "suspension_brackets = (4 if grid_depth == 0 else 0) + (2 if grid_length > 12 else 0)\n",
    "print('Suspension Brackets: ' + str(suspension_brackets))\n",
    "print('Suspension bracket Cost: $' + str(suspension_brackets * 15))"
   ]
  },
  {
   "cell_type": "markdown",
   "metadata": {},
   "source": [
    "<a name='grid_electrical'></a>\n",
    "## b.) Grid Electical"
   ]
  },
  {
   "cell_type": "markdown",
   "metadata": {},
   "source": [
    "<a name='lightbars'></a>\n",
    "### Number of Lightbars\n",
    "The number of lightbars are calculated if there is grid length and lamp spacing.<br>\n",
    "The calculations will take the height or width, (whichever is larger) and divide it by the lamp spacing then subtracted by 1 and rounded up<br>\n",
    "The cost of a single light bar is \\$1.62 <br>\n",
    "Light Bar: RoundUp(${\\frac{GridWidth}{LampSpacing}-1}$) if Width>Length <br>\n",
    "RoundUp($\\frac{GridLength}{LampSpacing}-1$) if Width<Length"
   ]
  },
  {
   "cell_type": "code",
   "execution_count": 17,
   "metadata": {},
   "outputs": [
    {
     "name": "stdout",
     "output_type": "stream",
     "text": [
      "Number of Lightbars: 5\n",
      "Lightbar Cost: $8.1\n"
     ]
    }
   ],
   "source": [
    "grid_length = 10\n",
    "grid_width = 8\n",
    "grid_depth = 0\n",
    "grid_qty = 1\n",
    "scrap_percentage = .25\n",
    "lamp_spacing = 2\n",
    "\n",
    "number_of_lightbars = math.ceil(grid_width/lamp_spacing) if grid_width > grid_length else math.ceil(grid_length/lamp_spacing)\n",
    "print('Number of Lightbars: ' + str(number_of_lightbars))\n",
    "print('Lightbar Cost: $' + str(round(1.62*number_of_lightbars,2)))"
   ]
  },
  {
   "cell_type": "markdown",
   "metadata": {},
   "source": [
    "<a name='led_module'></a>\n",
    "### Led Module\n",
    "LED Modules are estimated if there is length to the grid and valid lamp spacing <br>\n",
    "The calculations are using the lightbar calculation with the Grid Length exclusivly and multiplying it by 2, 3, or 4 based on Grid Width.<br>\n",
    "The cost of a single LED Module is \\$8.50 <br>\n",
    "LED Module:$2*RoundUp(\\frac{GridLength}{Lamp Spacing}-1)$ if Grid Width < 6 <br>\n",
    "$3*RoundUp(\\frac{GridLength}{Lamp Spacing}-1)$ if Grid Width < 8 <br>\n",
    "$4*RoundUp(\\frac{GridLength}{Lamp Spacing}-1)$ if Grid Width < 11 <br>\n",
    "$4*RoundUp(\\frac{GridLength}{Lamp Spacing}-1)$ if Grid Width > 11 <br>\n"
   ]
  },
  {
   "cell_type": "code",
   "execution_count": 21,
   "metadata": {},
   "outputs": [
    {
     "name": "stdout",
     "output_type": "stream",
     "text": [
      "Number of LED Modules: 16\n",
      "LED Module Cost: $136.0\n"
     ]
    }
   ],
   "source": [
    "modules = 2 if grid_width < 6 else 3 if grid_width < 8 else 4\n",
    "led_module = modules * math.ceil((grid_length/lamp_spacing)-1)\n",
    "print('Number of LED Modules: ' + str(led_module))\n",
    "print('LED Module Cost: $' + str(led_module*8.5))"
   ]
  },
  {
   "cell_type": "markdown",
   "metadata": {},
   "source": [
    "<a name='led_driver'></a>\n",
    "### LED Drivers\n",
    "LED Drivers are estimated if there is at least 1 lightbar<br>\n",
    "The calcuations add 1 LED Driver if there are any amount of lightbars<br>\n",
    "The Cost of a single LED Driver is $18<br>\n",
    "LED Driver: 1 if Lightbars > 0"
   ]
  },
  {
   "cell_type": "code",
   "execution_count": 24,
   "metadata": {},
   "outputs": [
    {
     "name": "stdout",
     "output_type": "stream",
     "text": [
      "Number of LED Drivers: 1\n",
      "Cost of LED Driver: $18\n"
     ]
    }
   ],
   "source": [
    "led_driver = 1 if number_of_lightbars > 0 else 0\n",
    "print('Number of LED Drivers: ' + str(led_driver))\n",
    "print('Cost of LED Driver: $' + str(led_driver *18))"
   ]
  },
  {
   "cell_type": "markdown",
   "metadata": {},
   "source": [
    "<a name='led_hardware'></a>\n",
    "### LED Hardware\n",
    "Hardware is estimated if there is a grid length<br>\n",
    "The calculations are the cost of the hardware for a 4ft light bar with factor for 6ft and 8ft lightbars that increases the cost based on the additional hardware needed. This cost is multipled by the number of lightbars in the grid<br>\n",
    "The summed cost of hardware for a 4ft light bar is \\$5.93802 <br>\n",
    "The summed cost consists of the following: <br>\n",
    "Grid Grommet: 2 \\* \\$0.0277<br>\n",
    "Disconnect: 1 \\* \\$0.6749<br>\n",
    "Ground Lead: 1 \\* \\$2.4699 <br>\n",
    "Wago: 2 \\* \\$0.0854<br>\n",
    "Wago: 3 \\* \\$0.2552<br>\n",
    "Wago: 6 \\* \\$0.2024<br>\n",
    "LED Grommet: 4 \\* \\$0.02968 <br>\n",
    "Pem Stud: 2 \\* \\$0.06015<br>\n",
    "Christmas tree: 12 \\* \\$0.019 <br>\n",
    "Misc. Hardware: 4 \\* \\$0.03<br>\n",
    "Hardware: 1 if Grid Width < 6<br>\n",
    "1 + $(\\frac{.57816}{5.93802}) * \\frac{GridLength}{LampSpacing}$ if Grid Width < 8<br>\n",
    "1 + $(\\frac{2*.57816}{5.93802})* \\frac{GridLength}{LampSpacing}$ if Grid Width $\\geq$ 8<br>\n",
    "\n",
    "You can see below this produces the same number as directly calculating the cost of a single 6ft or 8ft light bar. I will admit it's not a very transparent formula."
   ]
  },
  {
   "cell_type": "code",
   "execution_count": 55,
   "metadata": {},
   "outputs": [
    {
     "name": "stdout",
     "output_type": "stream",
     "text": [
      "4ft direct cost: 5.93802, 6ft direct cost: 6.516179999999999, 8ft direct cost: 7.094340000000001\n",
      "4ft calc cost: 5.93802, 6ft calc cost: 6.516179999999999, 8ft calc cost: 7.09434\n"
     ]
    }
   ],
   "source": [
    "cost_of_hardware_4ft = (2*.0277)+(1*.6749)+(2*.0854)+(3*.2552)+(6*.2024)+(4*.02968)+(2*.06015)+(12*.019)+(4*.03)+(1*+2.4699)\n",
    "cost_of_hardware_6ft = (2*.0277)+(1*.6749)+(2*.0854)+(3*.2552)+(8*.2024)+(6*.02968)+(2*.06015)+(18*.019)+(4*.03)+(1*+2.4699)\n",
    "cost_of_hardware_8ft = (2*.0277)+(1*.6749)+(2*.0854)+(3*.2552)+(10*.2024)+(8*.02968)+(2*.06015)+(24*.019)+(4*.03)+(1*+2.4699)\n",
    "\n",
    "print('4ft direct cost: ' + str(cost_of_hardware_4ft) + ', 6ft direct cost: ' + str(cost_of_hardware_6ft)+ \n",
    "      ', 8ft direct cost: ' + str(cost_of_hardware_8ft))\n",
    "\n",
    "print('4ft calc cost: ' + str(cost_of_hardware_4ft) + ', 6ft calc cost: ' + str((1+(.57816/cost_of_hardware_4ft))*cost_of_hardware_4ft) +\n",
    "      ', 8ft calc cost: ' + str((1+(2*.57816/cost_of_hardware_4ft))*cost_of_hardware_4ft))"
   ]
  },
  {
   "cell_type": "code",
   "execution_count": 62,
   "metadata": {},
   "outputs": [
    {
     "name": "stdout",
     "output_type": "stream",
     "text": [
      "Cost of LED Hardware: $35.4717\n"
     ]
    }
   ],
   "source": [
    "led_hardware = 1 + (0 if grid_width < 6 else (.57816)/cost_of_hardware_4ft if grid_width < 8 else (2*.57816)/cost_of_hardware_4ft)\n",
    "# 8ft bars (quantity: 5)\n",
    "print('Cost of LED Hardware: $' + str((led_hardware*cost_of_hardware_4ft *(grid_length/lamp_spacing))))"
   ]
  },
  {
   "cell_type": "markdown",
   "metadata": {},
   "source": [
    "<a name='led_wiring'></a>\n",
    "### LED Wiring\n",
    "Wiring is estimated if there is grid length<br>\n",
    "The calculations are similar to hardware, where the cost is the summed cost for wiring a 4ft lightbar, then has a scaling factor for 6ft and 8ft bars. Then multiplied by the number of lightbars <br>\n",
    "The summed cost of wire for a 4ft light bar is \\$4.506 <br>\n",
    "the summed cost consists of the following: <br>\n",
    "THHN 12ga: 20ft \\* \\$0.1092 <br>\n",
    "TFFN 18ga: 20ft \\* \\$0.0976 <br>\n",
    "Spiral Wrap: 1ft \\* \\$0.37 <br>\n",
    "Hardware: 1 if Grid Width < 6<br>\n",
    "1 + $(\\frac{1.65464}{4.506}) * \\frac{GridLength}{LampSpacing}$ if Grid Width < 8<br>\n",
    "1 + $(\\frac{2*1.65464}{4.506})* \\frac{GridLength}{LampSpacing}$ if Grid Width $\\geq$ 8<br>\n"
   ]
  },
  {
   "cell_type": "code",
   "execution_count": 64,
   "metadata": {},
   "outputs": [
    {
     "name": "stdout",
     "output_type": "stream",
     "text": [
      "4ft direct cost: 4.506, 6ft direct cost: 6.1604, 8ft direct cost: 7.814800000000001\n",
      "4ft calc cost: 4.506, 6ft calc cost: 6.1604, 8ft calc cost: 7.814800000000001\n"
     ]
    }
   ],
   "source": [
    "cost_of_wiring_4ft = (20*.1092) + (20*.0976) + (1*.37)\n",
    "cost_of_wiring_6ft = (28*.1092) + (28*.0976) + (1*.37)\n",
    "cost_of_wiring_8ft = (36*.1092) + (36*.0976) + (1*.37)\n",
    "print('4ft direct cost: ' + str(cost_of_wiring_4ft) + ', 6ft direct cost: ' + str(cost_of_wiring_6ft)+ \n",
    "      ', 8ft direct cost: ' + str(cost_of_wiring_8ft))\n",
    "\n",
    "print('4ft calc cost: ' + str(cost_of_wiring_4ft) + ', 6ft calc cost: ' + str((1+(1.6544/cost_of_wiring_4ft))*cost_of_wiring_4ft) +\n",
    "      ', 8ft calc cost: ' + str((1+(2*1.6544/cost_of_wiring_4ft))*cost_of_wiring_4ft))"
   ]
  },
  {
   "cell_type": "code",
   "execution_count": 65,
   "metadata": {},
   "outputs": [
    {
     "name": "stdout",
     "output_type": "stream",
     "text": [
      "Cost of LED Hardware: $39.074000000000005\n"
     ]
    }
   ],
   "source": [
    "led_wiring = 1 + (0 if grid_width < 6 else (1.6544)/cost_of_wiring_4ft if grid_width < 8 else (2*1.6544)/cost_of_wiring_4ft)\n",
    "# 8ft bars (quantity: 5)\n",
    "print('Cost of LED Hardware: $' + str((led_wiring*cost_of_wiring_4ft *(grid_length/lamp_spacing))))"
   ]
  },
  {
   "cell_type": "markdown",
   "metadata": {},
   "source": [
    "<a name='ionization'></a>\n",
    "### Wiring of Ionization\n",
    "Wiring of Ionization is added if there is grid length and the user called for wiring of ionization<br>\n",
    "The calculation is either 1 if specified or 0 if not specified<br>\n",
    "The cost of wiring of ionization is \\$50<br>\n",
    "Wiring of Ionization: 1 if wiring of ionization = True <br>\n",
    "0 if wiring of ionization = False<br>\n"
   ]
  },
  {
   "cell_type": "code",
   "execution_count": 66,
   "metadata": {},
   "outputs": [
    {
     "name": "stdout",
     "output_type": "stream",
     "text": [
      "Cost of Wiring of Ionization: $50\n"
     ]
    }
   ],
   "source": [
    "wiring_of_ionization = True\n",
    "cost_of_wiring_of_ionization = (1 if wiring_of_ionization == True else 0) * 50\n",
    "print('Cost of Wiring of Ionization: $' + str(cost_of_wiring_of_ionization))"
   ]
  },
  {
   "cell_type": "markdown",
   "metadata": {},
   "source": [
    "<a name='elabor'></a>\n",
    "### Electical Labor\n",
    "Electical Labor is estimated if there is grid length<br>\n",
    "The calculation is the (LED Module Quantity * 75 minutes per task)/ 60 min<br>\n",
    "The cost of 1 hour of Electrical Labor is \\$52.5<br>\n",
    "Electrical Labor: $\\frac{LED Module_{qty} * 75}{60}$"
   ]
  },
  {
   "cell_type": "code",
   "execution_count": 68,
   "metadata": {},
   "outputs": [
    {
     "name": "stdout",
     "output_type": "stream",
     "text": [
      "Electrical Labor Time: 20.0\n",
      "Electrical Labor Cost: $1050.0\n"
     ]
    }
   ],
   "source": [
    "#recall 16 led modules from previous calculations\n",
    "labor_hours = (led_module*75)/60\n",
    "print('Electrical Labor Time: ' + str(labor_hours))\n",
    "print('Electrical Labor Cost: $' + str(labor_hours * 52.5))"
   ]
  },
  {
   "cell_type": "markdown",
   "metadata": {},
   "source": [
    "<a name='addelabor'></a>\n",
    "### Additional Electical Labor\n",
    "This is estimated if there is a grid depth <br>\n",
    "The calculation is Quanitity of LED Modules * .5 <br>\n",
    "The cost of Additional Electrical Labor is \\$52.5 <br>\n",
    "Additional Labor: $.5 * LEDModule_{qty}$ "
   ]
  },
  {
   "cell_type": "code",
   "execution_count": 70,
   "metadata": {},
   "outputs": [
    {
     "name": "stdout",
     "output_type": "stream",
     "text": [
      "Additional Electrical Labor Time: 8.0\n",
      "Additional Electrical Labor Cost: $420.0\n"
     ]
    }
   ],
   "source": [
    "add_labor_hours = led_module*.5\n",
    "print('Additional Electrical Labor Time: ' + str(add_labor_hours))\n",
    "print('Additional Electrical Labor Cost: $' + str(add_labor_hours*52.5))"
   ]
  },
  {
   "cell_type": "code",
   "execution_count": null,
   "metadata": {},
   "outputs": [],
   "source": []
  }
 ],
 "metadata": {
  "kernelspec": {
   "display_name": "Python 3",
   "language": "python",
   "name": "python3"
  },
  "language_info": {
   "codemirror_mode": {
    "name": "ipython",
    "version": 3
   },
   "file_extension": ".py",
   "mimetype": "text/x-python",
   "name": "python",
   "nbconvert_exporter": "python",
   "pygments_lexer": "ipython3",
   "version": "3.6.5"
  }
 },
 "nbformat": 4,
 "nbformat_minor": 2
}
